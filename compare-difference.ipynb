{
 "cells": [
  {
   "cell_type": "code",
   "execution_count": 1,
   "metadata": {},
   "outputs": [],
   "source": [
    "import json"
   ]
  },
  {
   "cell_type": "code",
   "execution_count": 5,
   "metadata": {},
   "outputs": [],
   "source": [
    "converted = open('/home/pengfei/data/converted/pdtb-parses.json')\n",
    "actual = open('/home/pengfei/data/trial/pdtb-parses.json')"
   ]
  },
  {
   "cell_type": "code",
   "execution_count": 6,
   "metadata": {},
   "outputs": [],
   "source": [
    "converted_dict = json.loads(converted.read())\n",
    "actual_dict = json.loads(actual.read())"
   ]
  },
  {
   "cell_type": "code",
   "execution_count": 10,
   "metadata": {},
   "outputs": [
    {
     "name": "stdout",
     "output_type": "stream",
     "text": [
      "[['ROOT', 'ROOT-0', 'cut-16'], ['compound', 'Inc.-4', 'Kemper-1'], ['compound', 'Inc.-4', 'Financial-2'], ['compound', 'Inc.-4', 'Services-3'], ['nsubj', 'cut-16', 'Inc.-4'], ['punct', 'cut-16', ',-5'], ['advcl', 'cut-16', 'charging-6'], ['mark', 'ruining-11', 'that-7'], ['compound', 'trading-9', 'program-8'], ['nsubj', 'ruining-11', 'trading-9'], ['aux', 'ruining-11', 'is-10'], ['ccomp', 'charging-6', 'ruining-11'], ['det', 'market-14', 'the-12'], ['compound', 'market-14', 'stock-13'], ['dobj', 'ruining-11', 'market-14'], ['punct', 'cut-16', ',-15'], ['compound:prt', 'cut-16', 'off-17'], ['nummod', 'firms-22', 'four-18'], ['amod', 'firms-22', 'big-19'], ['compound', 'firms-22', 'Wall-20'], ['compound', 'firms-22', 'Street-21'], ['dobj', 'cut-16', 'firms-22'], ['mark', 'doing-24', 'from-23'], ['advcl', 'cut-16', 'doing-24'], ['dobj', 'doing-24', 'any-25'], ['case', '--29', 'of-26'], ['nmod:poss', '--29', 'its-27'], ['compound', '--29', 'stock-28'], ['nmod', 'any-25', '--29'], ['punct', 'cut-16', 'trading-30']]\n",
      "---------------------\n",
      "[['nn', 'Inc.-4', 'Kemper-1'], ['nn', 'Inc.-4', 'Financial-2'], ['nn', 'Inc.-4', 'Services-3'], ['nsubj', 'cut-16', 'Inc.-4'], ['vmod', 'cut-16', 'charging-6'], ['mark', 'ruining-11', 'that-7'], ['nn', 'trading-9', 'program-8'], ['nsubj', 'ruining-11', 'trading-9'], ['aux', 'ruining-11', 'is-10'], ['ccomp', 'charging-6', 'ruining-11'], ['det', 'market-14', 'the-12'], ['nn', 'market-14', 'stock-13'], ['dobj', 'ruining-11', 'market-14'], ['root', 'ROOT-0', 'cut-16'], ['prt', 'cut-16', 'off-17'], ['num', 'firms-22', 'four-18'], ['amod', 'firms-22', 'big-19'], ['nn', 'firms-22', 'Wall-20'], ['nn', 'firms-22', 'Street-21'], ['dobj', 'cut-16', 'firms-22'], ['prep', 'cut-16', 'from-23'], ['pcomp', 'from-23', 'doing-24'], ['dobj', 'doing-24', 'any-25'], ['prep', 'any-25', 'of-26'], ['poss', 'business-29', 'its-27'], ['nn', 'business-29', 'stock-trading-28'], ['pobj', 'of-26', 'business-29']]\n"
     ]
    }
   ],
   "source": [
    "print(converted_dict['wsj_1000']['sentences'][0]['dependencies'])\n",
    "print('---------------------')\n",
    "print(actual_dict['wsj_1000']['sentences'][0]['dependencies'])"
   ]
  },
  {
   "cell_type": "code",
   "execution_count": null,
   "metadata": {},
   "outputs": [],
   "source": []
  }
 ],
 "metadata": {
  "kernelspec": {
   "display_name": "Python 3",
   "language": "python",
   "name": "python3"
  },
  "language_info": {
   "codemirror_mode": {
    "name": "ipython",
    "version": 3
   },
   "file_extension": ".py",
   "mimetype": "text/x-python",
   "name": "python",
   "nbconvert_exporter": "python",
   "pygments_lexer": "ipython3",
   "version": "3.7.1"
  }
 },
 "nbformat": 4,
 "nbformat_minor": 2
}
