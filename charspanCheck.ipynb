{
 "cells": [
  {
   "cell_type": "code",
   "execution_count": 36,
   "metadata": {},
   "outputs": [],
   "source": [
    "import pandas as pd\n",
    "from pathlib import Path\n",
    "from collections import Counter"
   ]
  },
  {
   "cell_type": "code",
   "execution_count": 2,
   "metadata": {},
   "outputs": [],
   "source": [
    "DATA_PATH = Path(\"/home/pengfei/data/pdtb_v2/data/raw/wsj/\")"
   ]
  },
  {
   "cell_type": "code",
   "execution_count": 3,
   "metadata": {},
   "outputs": [
    {
     "name": "stderr",
     "output_type": "stream",
     "text": [
      "/home/pengfei/miniconda3/envs/stanfordnlp/lib/python3.7/site-packages/IPython/core/interactiveshell.py:3049: DtypeWarning: Columns (15) have mixed types. Specify dtype option on import or set low_memory=False.\n",
      "  interactivity=interactivity, compiler=compiler, result=result)\n"
     ]
    }
   ],
   "source": [
    "pdtb2 = pd.read_csv(\"../pdtb2/pdtb2.csv\")"
   ]
  },
  {
   "cell_type": "code",
   "execution_count": 4,
   "metadata": {},
   "outputs": [],
   "source": [
    "def _get_span_list(span):\n",
    "    \"\"\"\n",
    "    Args:\n",
    "            span(str): \"34..96;97..101\"\n",
    "    Returns:\n",
    "            ret(list[list[str]]):\n",
    "            if one arg has one segment: [[34,96]]\n",
    "            if one arg has two segment: example [[34, 96], [97, 101]]\n",
    "    \"\"\"\n",
    "    if type(span) == float:\n",
    "        return []\n",
    "    spans = span.split(';')\n",
    "    return [o.split('..') for o in spans]"
   ]
  },
  {
   "cell_type": "code",
   "execution_count": 5,
   "metadata": {},
   "outputs": [],
   "source": [
    "for i in range(100):\n",
    "    arg1_char_span_string = pdtb2.loc[i, 'Arg1_SpanList']\n",
    "    arg1_char_span_list = _get_span_list(arg1_char_span_string)\n",
    "    arg1_rawtext = pdtb2.loc[i, 'Arg1_RawText']\n",
    "    section = pdtb2.loc[i, 'Section']\n",
    "    filenumber = pdtb2.loc[i, 'FileNumber']\n",
    "    section = '{0:02}'.format(section)\n",
    "    filename = 'wsj_{0:02}'.format(int(section)) + '{:02}'.format(filenumber)\n",
    "    with open(DATA_PATH/section/filename) as f:\n",
    "        doc_rawtext = f.read()\n",
    "#     print(doc_rawtext[int(first):int(second)] == arg1_rawtext or doc_rawtext[int(first)+1:int(second)+1] == arg1_rawtext, i)"
   ]
  },
  {
   "cell_type": "markdown",
   "metadata": {},
   "source": [
    "in terms of segment number:\n",
    "single, double, trible = (38584, 1948, 51)"
   ]
  },
  {
   "cell_type": "code",
   "execution_count": 7,
   "metadata": {},
   "outputs": [],
   "source": [
    "def check_length(char_span_list):\n",
    "    char_span = 0\n",
    "    for span in char_span_list:\n",
    "        char_span += int(span[1]) - int(span[0])\n",
    "    return char_span"
   ]
  },
  {
   "cell_type": "code",
   "execution_count": 58,
   "metadata": {},
   "outputs": [],
   "source": [
    "a = []\n",
    "for i in range(40600):\n",
    "    arg1_char_span_string = pdtb2.loc[i, 'Arg1_SpanList']\n",
    "    arg1_char_span_list = _get_span_list(arg1_char_span_string)\n",
    "    arg1_rawtext = pdtb2.loc[i, 'Arg1_RawText']\n",
    "\n",
    "    first = arg1_char_span_list[0][0]\n",
    "    second = arg1_char_span_list[0][1]\n",
    "    if ';' not in arg1_char_span_string:\n",
    "        char_span = check_length(arg1_char_span_list)\n",
    "        a.append(abs(len(arg1_rawtext) - char_span))\n",
    "    if ';' in arg1_char_span_string:\n",
    "        char_span = check_length(arg1_char_span_list)\n",
    "        a.append(len(arg1_rawtext) - char_span)"
   ]
  },
  {
   "cell_type": "markdown",
   "metadata": {},
   "source": [
    "How many distances away:\n",
    "    Counter({0: 37713,\n",
    "         1: 2598,\n",
    "         2: 193,\n",
    "         6: 7,\n",
    "         12: 1,\n",
    "         9: 3,\n",
    "         3: 50,\n",
    "         5: 5,\n",
    "         18: 2,\n",
    "         4: 18,\n",
    "         13: 1,\n",
    "         8: 4,\n",
    "         15: 1,\n",
    "         62: 1,\n",
    "         19: 1,\n",
    "         10: 1,\n",
    "         16: 1})"
   ]
  },
  {
   "cell_type": "code",
   "execution_count": 56,
   "metadata": {},
   "outputs": [
    {
     "name": "stdout",
     "output_type": "stream",
     "text": [
      "With regard to Greece's long-bubbling bank-looting scandal, Mr. Papandreou's principal accuser remains George Koskotas, former owner of the Bank of Crete and self-confessed embezzler, now residing in a jail cell in Salem, Mass., from where he is fighting extradition proceedings that would return him to Greece.Mr. Koskotas's credibility is, at best, problematic.He has ample motive to shift the blame, and his testimony has also been found less than forthright on numerous points.Nevertheless, the New Democracy and Communist parties herald his assertions as proof of PASOK complicity. Among unanswered questions are whether Mr. Papandreou received $23 million of stolen Bank of Crete funds and an additional $734,000 in bribes, as contended; whether the prime minister ordered state agencies to deposit some $57 million in Mr. Koskotas's bank and then skim off the interest; and, what PASOK's cut was from the $210 million Mr. Koskotas pinched. Two former ministers were so heavily implicated in the Koskotas affair that PASOK members of Parliament voted to refer them to the special court.But eluding parliamentary probe was the case of millions of drachmas Mr. Koskotas funneled into New Democracy coffers.In the end, the investigation produced only circumstantial evidence and \"indications\" that point to PASOK, not clinching proof. On another issue, Greeks were told how their national intelligence agency, the EYP, regularly monitored the telephone conversations of prominent figures, including key opposition politicians, journalists and PASOK cabinet members.Despite convincing arguments, it was never established that Mr. Papandreou personally ordered or directed the wiretaps. The central weakness of the \"scandals\" debates was pointed up especially well when discussions focused on arms deals and kickbacks.The coalition government tried to show that PASOK ministers had received hefty sums for OKing the purchase of F-16 Fighting Falcon and Mirage 2000 combat aircraft, produced by the U.S.based General Dynamics Corp. and France's Avions Marcel Dassault, respectively.Naturally, neither General Dynamics nor Dassault could be expected to hamper its prospective future dealings by making disclosures of sums paid (or not) to various Greek officials for services rendered\n",
      "2299\n"
     ]
    }
   ],
   "source": [
    "a = []\n",
    "for i in range(40600):\n",
    "    arg1_char_span_string = pdtb2.loc[i, 'Arg1_SpanList']\n",
    "    arg1_char_span_list = _get_span_list(arg1_char_span_string)\n",
    "    arg1_rawtext = pdtb2.loc[i, 'Arg1_RawText']\n",
    "\n",
    "    \n",
    "    char_span = check_length(arg1_char_span_list)\n",
    "    if abs(len(arg1_rawtext) - char_span) > 2:\n",
    "        a.append(len(arg1_rawtext))\n",
    "    if len(arg1_rawtext) == 2283:\n",
    "        print(arg1_rawtext)\n",
    "        print(char_span)"
   ]
  },
  {
   "cell_type": "code",
   "execution_count": 59,
   "metadata": {},
   "outputs": [],
   "source": [
    "counter = Counter(a)"
   ]
  },
  {
   "cell_type": "code",
   "execution_count": 60,
   "metadata": {},
   "outputs": [
    {
     "data": {
      "text/plain": [
       "[-5, -4, -3, -2, -1, 0, 1, 2, 3, 4, 5, 6, 8, 9, 10, 12, 13, 15, 16, 18, 19, 62]"
      ]
     },
     "execution_count": 60,
     "metadata": {},
     "output_type": "execute_result"
    }
   ],
   "source": [
    "sorted(counter.keys())"
   ]
  },
  {
   "cell_type": "code",
   "execution_count": 57,
   "metadata": {},
   "outputs": [],
   "source": [
    "# write functions"
   ]
  },
  {
   "cell_type": "code",
   "execution_count": null,
   "metadata": {},
   "outputs": [],
   "source": [
    "def correct_by_shift(char_span_list, rawtext, arg_rawtext, number):\n",
    "    \"\"\"\n",
    "    Args:\n",
    "        char_span_list: shift by number\"\"\"\n",
    "    "
   ]
  }
 ],
 "metadata": {
  "kernelspec": {
   "display_name": "Python 3",
   "language": "python",
   "name": "python3"
  },
  "language_info": {
   "codemirror_mode": {
    "name": "ipython",
    "version": 3
   },
   "file_extension": ".py",
   "mimetype": "text/x-python",
   "name": "python",
   "nbconvert_exporter": "python",
   "pygments_lexer": "ipython3",
   "version": "3.7.1"
  }
 },
 "nbformat": 4,
 "nbformat_minor": 2
}
