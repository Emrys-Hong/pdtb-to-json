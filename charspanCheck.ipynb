{
 "cells": [
  {
   "cell_type": "code",
   "execution_count": 2,
   "metadata": {},
   "outputs": [],
   "source": [
    "import pandas as pd\n",
    "from pathlib import Path"
   ]
  },
  {
   "cell_type": "code",
   "execution_count": 3,
   "metadata": {},
   "outputs": [],
   "source": [
    "DATA_PATH = Path(\"/home/pengfei/data/pdtb_v2/data/raw/wsj/\")"
   ]
  },
  {
   "cell_type": "code",
   "execution_count": 4,
   "metadata": {},
   "outputs": [
    {
     "name": "stderr",
     "output_type": "stream",
     "text": [
      "/home/pengfei/miniconda3/envs/stanfordnlp/lib/python3.7/site-packages/IPython/core/interactiveshell.py:3049: DtypeWarning: Columns (15) have mixed types. Specify dtype option on import or set low_memory=False.\n",
      "  interactivity=interactivity, compiler=compiler, result=result)\n"
     ]
    }
   ],
   "source": [
    "pdtb2 = pd.read_csv(\"../pdtb2/pdtb2.csv\")"
   ]
  },
  {
   "cell_type": "code",
   "execution_count": 4,
   "metadata": {},
   "outputs": [
    {
     "data": {
      "text/plain": [
       "Index(['Relation', 'Section', 'FileNumber', 'Connective_SpanList',\n",
       "       'Connective_GornList', 'Connective_Trees', 'Connective_RawText',\n",
       "       'Connective_StringPosition', 'SentenceNumber', 'ConnHead', 'Conn1',\n",
       "       'Conn2', 'ConnHeadSemClass1', 'ConnHeadSemClass2', 'Conn2SemClass1',\n",
       "       'Conn2SemClass2', 'Attribution_Source', 'Attribution_Type',\n",
       "       'Attribution_Polarity', 'Attribution_Determinacy',\n",
       "       'Attribution_SpanList', 'Attribution_GornList', 'Attribution_Trees',\n",
       "       'Attribution_RawText', 'Arg1_SpanList', 'Arg1_GornList', 'Arg1_Trees',\n",
       "       'Arg1_RawText', 'Arg1_Attribution_Source', 'Arg1_Attribution_Type',\n",
       "       'Arg1_Attribution_Polarity', 'Arg1_Attribution_Determinacy',\n",
       "       'Arg1_Attribution_SpanList', 'Arg1_Attribution_GornList',\n",
       "       'Arg1_Attribution_Trees', 'Arg1_Attribution_RawText', 'Arg2_SpanList',\n",
       "       'Arg2_GornList', 'Arg2_Trees', 'Arg2_RawText',\n",
       "       'Arg2_Attribution_Source', 'Arg2_Attribution_Type',\n",
       "       'Arg2_Attribution_Polarity', 'Arg2_Attribution_Determinacy',\n",
       "       'Arg2_Attribution_SpanList', 'Arg2_Attribution_GornList',\n",
       "       'Arg2_Attribution_Trees', 'Arg2_Attribution_RawText', 'Sup1_SpanList',\n",
       "       'Sup1_GornList', 'Sup1_Trees', 'Sup1_RawText', 'Sup2_SpanList',\n",
       "       'Sup2_GornList', 'Sup2_Trees', 'Sup2_RawText', 'FullRawText'],\n",
       "      dtype='object')"
      ]
     },
     "execution_count": 4,
     "metadata": {},
     "output_type": "execute_result"
    }
   ],
   "source": [
    "pdtb2.keys()"
   ]
  },
  {
   "cell_type": "code",
   "execution_count": 6,
   "metadata": {},
   "outputs": [],
   "source": [
    "def _get_span_list(span):\n",
    "    \"\"\"\n",
    "    Args:\n",
    "            span(str): \"34..96;97..101\"\n",
    "    Returns:\n",
    "            ret(list[list[str]]):\n",
    "            if one arg has one segment: [[34,96]]\n",
    "            if one arg has two segment: example [[34, 96], [97, 101]]\n",
    "    \"\"\"\n",
    "    if type(span) == float:\n",
    "        return []\n",
    "    spans = span.split(';')\n",
    "    return [o.split('..') for o in spans]"
   ]
  },
  {
   "cell_type": "code",
   "execution_count": 42,
   "metadata": {},
   "outputs": [
    {
     "name": "stdout",
     "output_type": "stream",
     "text": [
      "True 0\n",
      "True 1\n",
      "True 2\n",
      "True 3\n",
      "True 4\n",
      "True 5\n",
      "True 6\n",
      "True 7\n",
      "True 8\n",
      "True 9\n",
      "False 10\n",
      "True 11\n",
      "True 12\n",
      "True 13\n",
      "True 14\n",
      "True 15\n",
      "True 16\n",
      "True 17\n",
      "True 18\n",
      "True 19\n",
      "True 20\n",
      "True 21\n",
      "True 22\n",
      "True 23\n",
      "True 24\n",
      "True 25\n",
      "True 26\n",
      "False 27\n",
      "False 28\n",
      "True 29\n",
      "True 30\n",
      "True 31\n",
      "True 32\n",
      "True 33\n",
      "True 34\n",
      "True 35\n",
      "False 36\n",
      "True 37\n",
      "True 38\n",
      "False 39\n",
      "True 40\n",
      "True 41\n",
      "True 42\n",
      "True 43\n",
      "True 44\n",
      "True 45\n",
      "True 46\n",
      "True 47\n",
      "True 48\n",
      "True 49\n",
      "True 50\n",
      "True 51\n",
      "True 52\n",
      "True 53\n",
      "True 54\n",
      "True 55\n",
      "True 56\n",
      "True 57\n",
      "True 58\n",
      "True 59\n",
      "True 60\n",
      "True 61\n",
      "True 62\n",
      "True 63\n",
      "False 64\n",
      "True 65\n",
      "True 66\n",
      "True 67\n",
      "False 68\n",
      "True 69\n",
      "True 70\n",
      "True 71\n",
      "False 72\n",
      "True 73\n",
      "True 74\n",
      "True 75\n",
      "True 76\n",
      "True 77\n",
      "True 78\n",
      "True 79\n",
      "True 80\n",
      "False 81\n",
      "True 82\n",
      "True 83\n",
      "True 84\n",
      "True 85\n",
      "True 86\n",
      "True 87\n",
      "True 88\n",
      "True 89\n",
      "True 90\n",
      "True 91\n",
      "False 92\n",
      "True 93\n",
      "True 94\n",
      "True 95\n",
      "True 96\n",
      "True 97\n",
      "True 98\n",
      "True 99\n"
     ]
    }
   ],
   "source": [
    "for i in range(100):\n",
    "    arg1_char_span_string = pdtb2.loc[i, 'Arg1_SpanList']\n",
    "    arg1_char_span_list = _get_span_list(arg1_char_span_string)\n",
    "    arg1_rawtext = pdtb2.loc[i, 'Arg1_RawText']\n",
    "    section = pdtb2.loc[i, 'Section']\n",
    "    filenumber = pdtb2.loc[i, 'FileNumber']\n",
    "    section = '{0:02}'.format(section)\n",
    "    filename = 'wsj_{0:04}'.format(filenumber)\n",
    "    with open(DATA_PATH/section/filename) as f:\n",
    "        doc_rawtext = f.read()\n",
    "    first = arg1_char_span_list[0][0]\n",
    "    second = arg1_char_span_list[0][1]\n",
    "    print(doc_rawtext[int(first):int(second)] == arg1_rawtext or doc_rawtext[int(first)+1:int(second)+1] == arg1_rawtext, i)"
   ]
  },
  {
   "cell_type": "code",
   "execution_count": 9,
   "metadata": {},
   "outputs": [
    {
     "name": "stdout",
     "output_type": "stream",
     "text": [
      "The average seven-day simple yield of the 400 funds was 8.12%, down from 8.14%.\n",
      "The 30-day simple yield fell to an average 8.19% from 8.22%\n",
      "The average seven-day simple yield of the 400 funds was 8.12%, down from 8.14%.The 30-day simple yield fell to an average 8.19% from 8.22%\n"
     ]
    }
   ],
   "source": [
    "i=36\n",
    "arg1_char_span_string = pdtb2.loc[i, 'Arg1_SpanList']\n",
    "arg1_char_span_list = _get_span_list(arg1_char_span_string)\n",
    "arg1_rawtext = pdtb2.loc[i, 'Arg1_RawText']\n",
    "section = pdtb2.loc[i, 'Section']\n",
    "filenumber = pdtb2.loc[i, 'FileNumber']\n",
    "section = '{0:02}'.format(section)\n",
    "filename = 'wsj_{0:04}'.format(filenumber)\n",
    "with open(DATA_PATH/section/filename) as f:\n",
    "    doc_rawtext = f.read()\n",
    "first = arg1_char_span_list[0][0]\n",
    "second = arg1_char_span_list[0][1]\n",
    "\n",
    "print(doc_rawtext[int(first):int(second)])\n",
    "print(arg1_rawtext)"
   ]
  },
  {
   "cell_type": "code",
   "execution_count": null,
   "metadata": {},
   "outputs": [],
   "source": []
  }
 ],
 "metadata": {
  "kernelspec": {
   "display_name": "Python 3",
   "language": "python",
   "name": "python3"
  }
 },
 "nbformat": 4,
 "nbformat_minor": 2
}
