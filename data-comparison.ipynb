{
 "cells": [
  {
   "cell_type": "code",
   "execution_count": 43,
   "metadata": {},
   "outputs": [],
   "source": [
    "import json"
   ]
  },
  {
   "cell_type": "code",
   "execution_count": 44,
   "metadata": {},
   "outputs": [],
   "source": [
    "converted = open('/home/pengfei/data/converted/pdtb-parses.json')\n",
    "actual = open('/home/pengfei/data/trial/pdtb-parses.json')"
   ]
  },
  {
   "cell_type": "code",
   "execution_count": 45,
   "metadata": {},
   "outputs": [],
   "source": [
    "converted_dict = json.loads(converted.read())\n",
    "actual_dict = json.loads(actual.read())"
   ]
  },
  {
   "cell_type": "code",
   "execution_count": 62,
   "metadata": {},
   "outputs": [
    {
     "name": "stdout",
     "output_type": "stream",
     "text": [
      "((S(NP(DTThe)(NNmove))(VP(VBZis)(NP(NP(DTthe)(JJSbiggest)(NNsalvo)(RByet))(PP(INin)(NP(NP(DTthe)(VBNrenewed)(NNoutcry))(PP(INagainst)(NP(NNprogram)(NNtrading))))))(,,)(PP(INwith)(NP(NP(NNPKemper))(VP(VBGputting)(NP(NP(PRP$its)(NNmoney))(PRN(:--)(NP(NP(DTthe)(NNSmillions))(PP(INof)(NP(NP(NNSdollars))(PP(INin)(NP(NP(NNScommissions))(SBAR(S(NP(PRPit))(VP(VBZgenerates)(NP(DTeach)(NNyear))))))))))(:--))(SBAR(WHADVP(WRBwhere))(S(NP(PRP$its)(NNmouth))(VP(VBZis)))))))))(..)))\n",
      "---------------------\n",
      "((S(NP(DTThe)(NNmove))(VP(VBZis)(NP(NP(DTthe)(JJSbiggest)(NNsalvo))(ADVP(RByet))(PP(INin)(NP(NP(DTthe)(VBNrenewed)(NNoutcry))(PP(INagainst)(NP(NNprogram)(NNtrading))))))(,,)(PP(INwith)(S(NP(NNPKemper))(VP(VBGputting)(NP(PRP$its)(NNmoney))(PRN(:--)(NP(NP(DTthe)(NNSmillions))(PP(INof)(NP(NNSdollars)))(PP(INin)(NP(NP(NNScommissions))(SBAR(S(NP(PRPit))(VP(VBZgenerates))))))(NP(DTeach)(NNyear)))(:--))(SBAR(WHADVP(WRBwhere))(S(NP(PRP$its)(NNmouth))(VP(VBZis))))))))(..)))\n",
      "\n",
      "False\n"
     ]
    }
   ],
   "source": [
    "num = 1\n",
    "print(converted_dict['wsj_1000']['sentences'][num]['parsetree'].replace(' ', ''))\n",
    "print('---------------------')\n",
    "print(actual_dict['wsj_1000']['sentences'][num]['parsetree']. replace(' ', ''))\n",
    "print(converted_dict['wsj_1000']['sentences'][num]['parsetree'].replace(' ', '').strip()\n",
    "      == actual_dict['wsj_1000']['sentences'][num]['parsetree'].replace(' ', '').strip())"
   ]
  },
  {
   "cell_type": "code",
   "execution_count": 87,
   "metadata": {
    "scrolled": true
   },
   "outputs": [
    {
     "name": "stdout",
     "output_type": "stream",
     "text": [
      "['The', {'CharacterOffsetBegin': 183, 'CharacterOffsetEnd': 186, 'PartOfSpeech': 'DT'}]\n",
      "['The', {'CharacterOffsetBegin': 183, 'CharacterOffsetEnd': 186, 'Linkers': [], 'PartOfSpeech': 'DT'}]\n",
      "['move', {'CharacterOffsetBegin': 187, 'CharacterOffsetEnd': 191, 'PartOfSpeech': 'NN'}]\n",
      "['move', {'CharacterOffsetBegin': 187, 'CharacterOffsetEnd': 191, 'Linkers': [], 'PartOfSpeech': 'NN'}]\n",
      "['is', {'CharacterOffsetBegin': 192, 'CharacterOffsetEnd': 194, 'PartOfSpeech': 'VBZ'}]\n",
      "['is', {'CharacterOffsetBegin': 192, 'CharacterOffsetEnd': 194, 'Linkers': [], 'PartOfSpeech': 'VBZ'}]\n",
      "['the', {'CharacterOffsetBegin': 195, 'CharacterOffsetEnd': 198, 'PartOfSpeech': 'DT'}]\n",
      "['the', {'CharacterOffsetBegin': 195, 'CharacterOffsetEnd': 198, 'Linkers': [], 'PartOfSpeech': 'DT'}]\n",
      "['biggest', {'CharacterOffsetBegin': 199, 'CharacterOffsetEnd': 206, 'PartOfSpeech': 'JJS'}]\n",
      "['biggest', {'CharacterOffsetBegin': 199, 'CharacterOffsetEnd': 206, 'Linkers': [], 'PartOfSpeech': 'JJS'}]\n",
      "['salvo', {'CharacterOffsetBegin': 207, 'CharacterOffsetEnd': 212, 'PartOfSpeech': 'NN'}]\n",
      "['salvo', {'CharacterOffsetBegin': 207, 'CharacterOffsetEnd': 212, 'Linkers': [], 'PartOfSpeech': 'NN'}]\n",
      "['yet', {'CharacterOffsetBegin': 213, 'CharacterOffsetEnd': 216, 'PartOfSpeech': 'RB'}]\n",
      "['yet', {'CharacterOffsetBegin': 213, 'CharacterOffsetEnd': 216, 'Linkers': [], 'PartOfSpeech': 'RB'}]\n",
      "['in', {'CharacterOffsetBegin': 217, 'CharacterOffsetEnd': 219, 'PartOfSpeech': 'IN'}]\n",
      "['in', {'CharacterOffsetBegin': 217, 'CharacterOffsetEnd': 219, 'Linkers': [], 'PartOfSpeech': 'IN'}]\n",
      "['the', {'CharacterOffsetBegin': 220, 'CharacterOffsetEnd': 223, 'PartOfSpeech': 'DT'}]\n",
      "['the', {'CharacterOffsetBegin': 220, 'CharacterOffsetEnd': 223, 'Linkers': [], 'PartOfSpeech': 'DT'}]\n",
      "['renewed', {'CharacterOffsetBegin': 224, 'CharacterOffsetEnd': 231, 'PartOfSpeech': 'VBN'}]\n",
      "['renewed', {'CharacterOffsetBegin': 224, 'CharacterOffsetEnd': 231, 'Linkers': [], 'PartOfSpeech': 'VBN'}]\n",
      "['outcry', {'CharacterOffsetBegin': 232, 'CharacterOffsetEnd': 238, 'PartOfSpeech': 'NN'}]\n",
      "['outcry', {'CharacterOffsetBegin': 232, 'CharacterOffsetEnd': 238, 'Linkers': [], 'PartOfSpeech': 'NN'}]\n",
      "['against', {'CharacterOffsetBegin': 239, 'CharacterOffsetEnd': 246, 'PartOfSpeech': 'IN'}]\n",
      "['against', {'CharacterOffsetBegin': 239, 'CharacterOffsetEnd': 246, 'Linkers': [], 'PartOfSpeech': 'IN'}]\n",
      "['program', {'CharacterOffsetBegin': 247, 'CharacterOffsetEnd': 254, 'PartOfSpeech': 'NN'}]\n",
      "['program', {'CharacterOffsetBegin': 247, 'CharacterOffsetEnd': 254, 'Linkers': [], 'PartOfSpeech': 'NN'}]\n",
      "['trading', {'CharacterOffsetBegin': 255, 'CharacterOffsetEnd': 262, 'PartOfSpeech': 'NN'}]\n",
      "['trading', {'CharacterOffsetBegin': 255, 'CharacterOffsetEnd': 262, 'Linkers': [], 'PartOfSpeech': 'NN'}]\n",
      "[',', {'CharacterOffsetBegin': 262, 'CharacterOffsetEnd': 263, 'PartOfSpeech': ','}]\n",
      "[',', {'CharacterOffsetBegin': 262, 'CharacterOffsetEnd': 263, 'Linkers': [], 'PartOfSpeech': ','}]\n",
      "['with', {'CharacterOffsetBegin': 264, 'CharacterOffsetEnd': 268, 'PartOfSpeech': 'IN'}]\n",
      "['with', {'CharacterOffsetBegin': 264, 'CharacterOffsetEnd': 268, 'Linkers': [], 'PartOfSpeech': 'IN'}]\n",
      "['Kemper', {'CharacterOffsetBegin': 269, 'CharacterOffsetEnd': 275, 'PartOfSpeech': 'NNP'}]\n",
      "['Kemper', {'CharacterOffsetBegin': 269, 'CharacterOffsetEnd': 275, 'Linkers': [], 'PartOfSpeech': 'NNP'}]\n",
      "['putting', {'CharacterOffsetBegin': 276, 'CharacterOffsetEnd': 283, 'PartOfSpeech': 'VBG'}]\n",
      "['putting', {'CharacterOffsetBegin': 276, 'CharacterOffsetEnd': 283, 'Linkers': [], 'PartOfSpeech': 'VBG'}]\n",
      "['its', {'CharacterOffsetBegin': 284, 'CharacterOffsetEnd': 287, 'PartOfSpeech': 'PRP$'}]\n",
      "['its', {'CharacterOffsetBegin': 284, 'CharacterOffsetEnd': 287, 'Linkers': [], 'PartOfSpeech': 'PRP$'}]\n",
      "['money', {'CharacterOffsetBegin': 288, 'CharacterOffsetEnd': 293, 'PartOfSpeech': 'NN'}]\n",
      "['money', {'CharacterOffsetBegin': 288, 'CharacterOffsetEnd': 293, 'Linkers': [], 'PartOfSpeech': 'NN'}]\n",
      "['--', {'CharacterOffsetBegin': 294, 'CharacterOffsetEnd': 296, 'PartOfSpeech': ':'}]\n",
      "['--', {'CharacterOffsetBegin': 294, 'CharacterOffsetEnd': 296, 'Linkers': [], 'PartOfSpeech': ':'}]\n",
      "['the', {'CharacterOffsetBegin': 297, 'CharacterOffsetEnd': 300, 'PartOfSpeech': 'DT'}]\n",
      "['the', {'CharacterOffsetBegin': 297, 'CharacterOffsetEnd': 300, 'Linkers': [], 'PartOfSpeech': 'DT'}]\n",
      "['millions', {'CharacterOffsetBegin': 301, 'CharacterOffsetEnd': 309, 'PartOfSpeech': 'NNS'}]\n",
      "['millions', {'CharacterOffsetBegin': 301, 'CharacterOffsetEnd': 309, 'Linkers': [], 'PartOfSpeech': 'NNS'}]\n",
      "['of', {'CharacterOffsetBegin': 310, 'CharacterOffsetEnd': 312, 'PartOfSpeech': 'IN'}]\n",
      "['of', {'CharacterOffsetBegin': 310, 'CharacterOffsetEnd': 312, 'Linkers': [], 'PartOfSpeech': 'IN'}]\n",
      "['dollars', {'CharacterOffsetBegin': 313, 'CharacterOffsetEnd': 320, 'PartOfSpeech': 'NNS'}]\n",
      "['dollars', {'CharacterOffsetBegin': 313, 'CharacterOffsetEnd': 320, 'Linkers': [], 'PartOfSpeech': 'NNS'}]\n",
      "['in', {'CharacterOffsetBegin': 321, 'CharacterOffsetEnd': 323, 'PartOfSpeech': 'IN'}]\n",
      "['in', {'CharacterOffsetBegin': 321, 'CharacterOffsetEnd': 323, 'Linkers': [], 'PartOfSpeech': 'IN'}]\n",
      "['commissions', {'CharacterOffsetBegin': 324, 'CharacterOffsetEnd': 335, 'PartOfSpeech': 'NNS'}]\n",
      "['commissions', {'CharacterOffsetBegin': 324, 'CharacterOffsetEnd': 335, 'Linkers': [], 'PartOfSpeech': 'NNS'}]\n",
      "['it', {'CharacterOffsetBegin': 336, 'CharacterOffsetEnd': 338, 'PartOfSpeech': 'PRP'}]\n",
      "['it', {'CharacterOffsetBegin': 336, 'CharacterOffsetEnd': 338, 'Linkers': [], 'PartOfSpeech': 'PRP'}]\n",
      "['generates', {'CharacterOffsetBegin': 339, 'CharacterOffsetEnd': 348, 'PartOfSpeech': 'VBZ'}]\n",
      "['generates', {'CharacterOffsetBegin': 339, 'CharacterOffsetEnd': 348, 'Linkers': [], 'PartOfSpeech': 'VBZ'}]\n",
      "['each', {'CharacterOffsetBegin': 349, 'CharacterOffsetEnd': 353, 'PartOfSpeech': 'DT'}]\n",
      "['each', {'CharacterOffsetBegin': 349, 'CharacterOffsetEnd': 353, 'Linkers': [], 'PartOfSpeech': 'DT'}]\n",
      "['year', {'CharacterOffsetBegin': 354, 'CharacterOffsetEnd': 358, 'PartOfSpeech': 'NN'}]\n",
      "['year', {'CharacterOffsetBegin': 354, 'CharacterOffsetEnd': 358, 'Linkers': [], 'PartOfSpeech': 'NN'}]\n",
      "['--', {'CharacterOffsetBegin': 359, 'CharacterOffsetEnd': 361, 'PartOfSpeech': ':'}]\n",
      "['--', {'CharacterOffsetBegin': 359, 'CharacterOffsetEnd': 361, 'Linkers': [], 'PartOfSpeech': ':'}]\n",
      "['where', {'CharacterOffsetBegin': 362, 'CharacterOffsetEnd': 367, 'PartOfSpeech': 'WRB'}]\n",
      "['where', {'CharacterOffsetBegin': 362, 'CharacterOffsetEnd': 367, 'Linkers': [], 'PartOfSpeech': 'WRB'}]\n",
      "['its', {'CharacterOffsetBegin': 368, 'CharacterOffsetEnd': 371, 'PartOfSpeech': 'PRP$'}]\n",
      "['its', {'CharacterOffsetBegin': 368, 'CharacterOffsetEnd': 371, 'Linkers': [], 'PartOfSpeech': 'PRP$'}]\n",
      "['mouth', {'CharacterOffsetBegin': 372, 'CharacterOffsetEnd': 377, 'PartOfSpeech': 'NN'}]\n",
      "['mouth', {'CharacterOffsetBegin': 372, 'CharacterOffsetEnd': 377, 'Linkers': [], 'PartOfSpeech': 'NN'}]\n",
      "['is', {'CharacterOffsetBegin': 378, 'CharacterOffsetEnd': 380, 'PartOfSpeech': 'VBZ'}]\n",
      "['is', {'CharacterOffsetBegin': 378, 'CharacterOffsetEnd': 380, 'Linkers': [], 'PartOfSpeech': 'VBZ'}]\n",
      "['.', {'CharacterOffsetBegin': 380, 'CharacterOffsetEnd': 381, 'PartOfSpeech': '.'}]\n",
      "['.', {'CharacterOffsetBegin': 380, 'CharacterOffsetEnd': 381, 'Linkers': [], 'PartOfSpeech': '.'}]\n"
     ]
    }
   ],
   "source": [
    "# print(converted_dict['wsj_1000']['sentences'][num]['words'])\n",
    "# print('---------------------')\n",
    "# print(actual_dict['wsj_1000']['sentences'][num]['words'])\n",
    "for a, b in zip(converted_dict['wsj_1000']['sentences'][num]['words'], actual_dict['wsj_1000']['sentences'][num]['words']) :\n",
    "    print(a)\n",
    "    print(b)"
   ]
  },
  {
   "cell_type": "markdown",
   "metadata": {},
   "source": [
    "## learning pipline"
   ]
  },
  {
   "cell_type": "code",
   "execution_count": 1,
   "metadata": {},
   "outputs": [],
   "source": [
    "import stanfordnlp"
   ]
  },
  {
   "cell_type": "code",
   "execution_count": 2,
   "metadata": {},
   "outputs": [],
   "source": [
    "file = open('/home/pengfei/data/trial/raw_train/wsj_1000').read()"
   ]
  },
  {
   "cell_type": "code",
   "execution_count": 4,
   "metadata": {},
   "outputs": [
    {
     "name": "stdout",
     "output_type": "stream",
     "text": [
      "Use device: gpu\n",
      "---\n",
      "Loading: tokenize\n",
      "With settings: \n",
      "{'model_path': '/home/pengfei/stanfordnlp_resources/en_ewt_models/en_ewt_tokenizer.pt', 'lang': 'en', 'shorthand': 'en_ewt', 'mode': 'predict'}\n",
      "---\n",
      "Loading: pos\n",
      "With settings: \n",
      "{'model_path': '/home/pengfei/stanfordnlp_resources/en_ewt_models/en_ewt_tagger.pt', 'pretrain_path': '/home/pengfei/stanfordnlp_resources/en_ewt_models/en_ewt.pretrain.pt', 'lang': 'en', 'shorthand': 'en_ewt', 'mode': 'predict'}\n",
      "---\n",
      "Loading: lemma\n",
      "With settings: \n",
      "{'model_path': '/home/pengfei/stanfordnlp_resources/en_ewt_models/en_ewt_lemmatizer.pt', 'lang': 'en', 'shorthand': 'en_ewt', 'mode': 'predict'}\n",
      "Building an attentional Seq2Seq model...\n",
      "Using a Bi-LSTM encoder\n",
      "Using soft attention for LSTM.\n",
      "Finetune all embeddings.\n",
      "[Running seq2seq lemmatizer with edit classifier]\n",
      "---\n",
      "Loading: depparse\n",
      "With settings: \n",
      "{'model_path': '/home/pengfei/stanfordnlp_resources/en_ewt_models/en_ewt_parser.pt', 'pretrain_path': '/home/pengfei/stanfordnlp_resources/en_ewt_models/en_ewt.pretrain.pt', 'lang': 'en', 'shorthand': 'en_ewt', 'mode': 'predict'}\n",
      "Done loading processors!\n",
      "---\n"
     ]
    }
   ],
   "source": [
    "nlp = stanfordnlp.Pipeline()"
   ]
  },
  {
   "cell_type": "code",
   "execution_count": 22,
   "metadata": {},
   "outputs": [],
   "source": [
    "doc = nlp('Kemper Financial Services Inc., charging that program trading is ruining the stock market, cut off four big Wall Street firms from doing any of its stock-trading business. ')"
   ]
  },
  {
   "cell_type": "code",
   "execution_count": 23,
   "metadata": {},
   "outputs": [],
   "source": [
    "c = doc.sentences[0]"
   ]
  },
  {
   "cell_type": "code",
   "execution_count": 29,
   "metadata": {},
   "outputs": [
    {
     "name": "stdout",
     "output_type": "stream",
     "text": [
      "<Word index=1;text=Kemper;lemma=Kemper;upos=PROPN;xpos=NNP;feats=Number=Sing;governor=4;dependency_relation=compound>\n",
      "<Word index=2;text=Financial;lemma=Financial;upos=PROPN;xpos=NNP;feats=Number=Sing;governor=4;dependency_relation=compound>\n",
      "<Word index=3;text=Services;lemma=Services;upos=PROPN;xpos=NNPS;feats=Number=Plur;governor=4;dependency_relation=compound>\n",
      "<Word index=4;text=Inc.;lemma=Inc.;upos=PROPN;xpos=NNP;feats=Number=Sing;governor=0;dependency_relation=root>\n",
      "<Word index=5;text=,;lemma=,;upos=PUNCT;xpos=,;feats=_;governor=4;dependency_relation=punct>\n",
      "<Word index=6;text=charging;lemma=charge;upos=VERB;xpos=VBG;feats=VerbForm=Ger;governor=4;dependency_relation=acl>\n",
      "<Word index=7;text=that;lemma=that;upos=SCONJ;xpos=IN;feats=_;governor=11;dependency_relation=mark>\n",
      "<Word index=8;text=program;lemma=program;upos=NOUN;xpos=NN;feats=Number=Sing;governor=9;dependency_relation=compound>\n",
      "<Word index=9;text=trading;lemma=trading;upos=NOUN;xpos=NN;feats=Number=Sing;governor=11;dependency_relation=nsubj>\n",
      "<Word index=10;text=is;lemma=be;upos=AUX;xpos=VBZ;feats=Mood=Ind|Number=Sing|Person=3|Tense=Pres|VerbForm=Fin;governor=11;dependency_relation=aux>\n",
      "<Word index=11;text=ruining;lemma=ruin;upos=VERB;xpos=VBG;feats=Tense=Pres|VerbForm=Part;governor=6;dependency_relation=ccomp>\n",
      "<Word index=12;text=the;lemma=the;upos=DET;xpos=DT;feats=Definite=Def|PronType=Art;governor=14;dependency_relation=det>\n",
      "<Word index=13;text=stock;lemma=stock;upos=NOUN;xpos=NN;feats=Number=Sing;governor=14;dependency_relation=compound>\n",
      "<Word index=14;text=market;lemma=market;upos=NOUN;xpos=NN;feats=Number=Sing;governor=11;dependency_relation=obj>\n",
      "<Word index=15;text=,;lemma=,;upos=PUNCT;xpos=,;feats=_;governor=11;dependency_relation=punct>\n",
      "<Word index=16;text=cut;lemma=cut;upos=VERB;xpos=VBN;feats=Tense=Past|VerbForm=Part;governor=11;dependency_relation=advcl>\n",
      "<Word index=17;text=off;lemma=off;upos=ADP;xpos=RP;feats=_;governor=16;dependency_relation=compound:prt>\n",
      "<Word index=18;text=four;lemma=four;upos=NUM;xpos=CD;feats=NumType=Card;governor=22;dependency_relation=nummod>\n",
      "<Word index=19;text=big;lemma=big;upos=ADJ;xpos=JJ;feats=Degree=Pos;governor=22;dependency_relation=amod>\n",
      "<Word index=20;text=Wall;lemma=Wall;upos=PROPN;xpos=NNP;feats=Number=Sing;governor=21;dependency_relation=compound>\n",
      "<Word index=21;text=Street;lemma=Street;upos=PROPN;xpos=NNP;feats=Number=Sing;governor=22;dependency_relation=compound>\n",
      "<Word index=22;text=firms;lemma=firm;upos=NOUN;xpos=NNS;feats=Number=Plur;governor=16;dependency_relation=obj>\n",
      "<Word index=23;text=from;lemma=from;upos=SCONJ;xpos=IN;feats=_;governor=24;dependency_relation=mark>\n",
      "<Word index=24;text=doing;lemma=do;upos=VERB;xpos=VBG;feats=VerbForm=Ger;governor=16;dependency_relation=advcl>\n",
      "<Word index=25;text=any;lemma=any;upos=DET;xpos=DT;feats=_;governor=24;dependency_relation=obj>\n",
      "<Word index=26;text=of;lemma=of;upos=ADP;xpos=IN;feats=_;governor=31;dependency_relation=case>\n",
      "<Word index=27;text=its;lemma=its;upos=PRON;xpos=PRP$;feats=Gender=Neut|Number=Sing|Person=3|Poss=Yes|PronType=Prs;governor=31;dependency_relation=nmod:poss>\n",
      "<Word index=28;text=stock;lemma=stock;upos=NOUN;xpos=NN;feats=Number=Sing;governor=30;dependency_relation=compound>\n",
      "<Word index=29;text=-;lemma=-;upos=PUNCT;xpos=HYPH;feats=_;governor=30;dependency_relation=punct>\n",
      "<Word index=30;text=trading;lemma=trading;upos=NOUN;xpos=NN;feats=Number=Sing;governor=31;dependency_relation=compound>\n",
      "<Word index=31;text=business;lemma=business;upos=NOUN;xpos=NN;feats=Number=Sing;governor=25;dependency_relation=nmod>\n",
      "<Word index=32;text=.;lemma=.;upos=PUNCT;xpos=.;feats=_;governor=4;dependency_relation=punct>\n"
     ]
    }
   ],
   "source": []
  },
  {
   "cell_type": "code",
   "execution_count": 8,
   "metadata": {},
   "outputs": [],
   "source": [
    "dependencies = c.dependencies"
   ]
  },
  {
   "cell_type": "code",
   "execution_count": 16,
   "metadata": {
    "scrolled": false
   },
   "outputs": [
    {
     "data": {
      "text/plain": [
       "(<Word index=0;text=ROOT>,\n",
       " 'root',\n",
       " <Word index=4;text=Inc.;lemma=Inc.;upos=PROPN;xpos=NNP;feats=Number=Sing;governor=0;dependency_relation=root>)"
      ]
     },
     "execution_count": 16,
     "metadata": {},
     "output_type": "execute_result"
    }
   ],
   "source": [
    "dependencies[3]"
   ]
  },
  {
   "cell_type": "code",
   "execution_count": 100,
   "metadata": {
    "scrolled": false
   },
   "outputs": [
    {
     "data": {
      "text/plain": [
       "<Word index=4;text=Inc.;lemma=Inc.;upos=PROPN;xpos=NNP;feats=Number=Sing;governor=0;dependency_relation=root>"
      ]
     },
     "execution_count": 100,
     "metadata": {},
     "output_type": "execute_result"
    }
   ],
   "source": [
    "dependencies[0][0]"
   ]
  },
  {
   "cell_type": "code",
   "execution_count": 101,
   "metadata": {},
   "outputs": [
    {
     "data": {
      "text/plain": [
       "[<Word index=1;text=Kemper;lemma=Kemper;upos=PROPN;xpos=NNP;feats=Number=Sing;governor=4;dependency_relation=compound>,\n",
       " <Word index=2;text=Financial;lemma=Financial;upos=PROPN;xpos=NNP;feats=Number=Sing;governor=4;dependency_relation=compound>,\n",
       " <Word index=3;text=Services;lemma=Services;upos=PROPN;xpos=NNPS;feats=Number=Plur;governor=4;dependency_relation=compound>,\n",
       " <Word index=4;text=Inc.;lemma=Inc.;upos=PROPN;xpos=NNP;feats=Number=Sing;governor=0;dependency_relation=root>,\n",
       " <Word index=5;text=,;lemma=,;upos=PUNCT;xpos=,;feats=_;governor=4;dependency_relation=punct>,\n",
       " <Word index=6;text=charging;lemma=charge;upos=VERB;xpos=VBG;feats=VerbForm=Ger;governor=4;dependency_relation=acl>,\n",
       " <Word index=7;text=that;lemma=that;upos=SCONJ;xpos=IN;feats=_;governor=11;dependency_relation=mark>,\n",
       " <Word index=8;text=program;lemma=program;upos=NOUN;xpos=NN;feats=Number=Sing;governor=9;dependency_relation=compound>,\n",
       " <Word index=9;text=trading;lemma=trading;upos=NOUN;xpos=NN;feats=Number=Sing;governor=11;dependency_relation=nsubj>,\n",
       " <Word index=10;text=is;lemma=be;upos=AUX;xpos=VBZ;feats=Mood=Ind|Number=Sing|Person=3|Tense=Pres|VerbForm=Fin;governor=11;dependency_relation=aux>,\n",
       " <Word index=11;text=ruining;lemma=ruin;upos=VERB;xpos=VBG;feats=Tense=Pres|VerbForm=Part;governor=6;dependency_relation=ccomp>,\n",
       " <Word index=12;text=the;lemma=the;upos=DET;xpos=DT;feats=Definite=Def|PronType=Art;governor=14;dependency_relation=det>,\n",
       " <Word index=13;text=stock;lemma=stock;upos=NOUN;xpos=NN;feats=Number=Sing;governor=14;dependency_relation=compound>,\n",
       " <Word index=14;text=market;lemma=market;upos=NOUN;xpos=NN;feats=Number=Sing;governor=11;dependency_relation=obj>,\n",
       " <Word index=15;text=,;lemma=,;upos=PUNCT;xpos=,;feats=_;governor=11;dependency_relation=punct>,\n",
       " <Word index=16;text=cut;lemma=cut;upos=VERB;xpos=VBN;feats=Tense=Past|VerbForm=Part;governor=11;dependency_relation=advcl>,\n",
       " <Word index=17;text=off;lemma=off;upos=ADP;xpos=RP;feats=_;governor=16;dependency_relation=compound:prt>,\n",
       " <Word index=18;text=four;lemma=four;upos=NUM;xpos=CD;feats=NumType=Card;governor=22;dependency_relation=nummod>,\n",
       " <Word index=19;text=big;lemma=big;upos=ADJ;xpos=JJ;feats=Degree=Pos;governor=22;dependency_relation=amod>,\n",
       " <Word index=20;text=Wall;lemma=Wall;upos=PROPN;xpos=NNP;feats=Number=Sing;governor=21;dependency_relation=compound>,\n",
       " <Word index=21;text=Street;lemma=Street;upos=PROPN;xpos=NNP;feats=Number=Sing;governor=22;dependency_relation=compound>,\n",
       " <Word index=22;text=firms;lemma=firm;upos=NOUN;xpos=NNS;feats=Number=Plur;governor=16;dependency_relation=obj>,\n",
       " <Word index=23;text=from;lemma=from;upos=SCONJ;xpos=IN;feats=_;governor=24;dependency_relation=mark>,\n",
       " <Word index=24;text=doing;lemma=do;upos=VERB;xpos=VBG;feats=VerbForm=Ger;governor=16;dependency_relation=advcl>,\n",
       " <Word index=25;text=any;lemma=any;upos=DET;xpos=DT;feats=_;governor=24;dependency_relation=obj>,\n",
       " <Word index=26;text=of;lemma=of;upos=ADP;xpos=IN;feats=_;governor=31;dependency_relation=case>,\n",
       " <Word index=27;text=its;lemma=its;upos=PRON;xpos=PRP$;feats=Gender=Neut|Number=Sing|Person=3|Poss=Yes|PronType=Prs;governor=31;dependency_relation=nmod:poss>,\n",
       " <Word index=28;text=stock;lemma=stock;upos=NOUN;xpos=NN;feats=Number=Sing;governor=30;dependency_relation=compound>,\n",
       " <Word index=29;text=-;lemma=-;upos=PUNCT;xpos=HYPH;feats=_;governor=30;dependency_relation=punct>,\n",
       " <Word index=30;text=trading;lemma=trading;upos=NOUN;xpos=NN;feats=Number=Sing;governor=31;dependency_relation=compound>,\n",
       " <Word index=31;text=business;lemma=business;upos=NOUN;xpos=NN;feats=Number=Sing;governor=25;dependency_relation=nmod>,\n",
       " <Word index=32;text=.;lemma=.;upos=PUNCT;xpos=.;feats=_;governor=4;dependency_relation=punct>]"
      ]
     },
     "execution_count": 101,
     "metadata": {},
     "output_type": "execute_result"
    }
   ],
   "source": [
    "c.words"
   ]
  }
 ],
 "metadata": {
  "kernelspec": {
   "display_name": "Python 3",
   "language": "python",
   "name": "python3"
  },
  "language_info": {
   "codemirror_mode": {
    "name": "ipython",
    "version": 3
   },
   "file_extension": ".py",
   "mimetype": "text/x-python",
   "name": "python",
   "nbconvert_exporter": "python",
   "pygments_lexer": "ipython3",
   "version": "3.7.1"
  }
 },
 "nbformat": 4,
 "nbformat_minor": 2
}
