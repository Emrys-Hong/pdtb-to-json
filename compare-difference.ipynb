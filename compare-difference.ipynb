{
 "cells": [
  {
   "cell_type": "code",
   "execution_count": 1,
   "metadata": {},
   "outputs": [],
   "source": [
    "import json"
   ]
  },
  {
   "cell_type": "code",
   "execution_count": 5,
   "metadata": {},
   "outputs": [],
   "source": [
    "converted = open('/home/pengfei/data/converted/pdtb-parses.json')\n",
    "actual = open('/home/pengfei/data/trial/pdtb-parses.json')"
   ]
  },
  {
   "cell_type": "code",
   "execution_count": 6,
   "metadata": {},
   "outputs": [],
   "source": [
    "converted_dict = json.loads(converted.read())\n",
    "actual_dict = json.loads(actual.read())"
   ]
  },
  {
   "cell_type": "code",
   "execution_count": 10,
   "metadata": {},
   "outputs": [
    {
     "name": "stdout",
     "output_type": "stream",
     "text": [
      "[['ROOT', 'ROOT-0', 'cut-16'], ['compound', 'Inc.-4', 'Kemper-1'], ['compound', 'Inc.-4', 'Financial-2'], ['compound', 'Inc.-4', 'Services-3'], ['nsubj', 'cut-16', 'Inc.-4'], ['punct', 'cut-16', ',-5'], ['advcl', 'cut-16', 'charging-6'], ['mark', 'ruining-11', 'that-7'], ['compound', 'trading-9', 'program-8'], ['nsubj', 'ruining-11', 'trading-9'], ['aux', 'ruining-11', 'is-10'], ['ccomp', 'charging-6', 'ruining-11'], ['det', 'market-14', 'the-12'], ['compound', 'market-14', 'stock-13'], ['dobj', 'ruining-11', 'market-14'], ['punct', 'cut-16', ',-15'], ['compound:prt', 'cut-16', 'off-17'], ['nummod', 'firms-22', 'four-18'], ['amod', 'firms-22', 'big-19'], ['compound', 'firms-22', 'Wall-20'], ['compound', 'firms-22', 'Street-21'], ['dobj', 'cut-16', 'firms-22'], ['mark', 'doing-24', 'from-23'], ['advcl', 'cut-16', 'doing-24'], ['dobj', 'doing-24', 'any-25'], ['case', '--29', 'of-26'], ['nmod:poss', '--29', 'its-27'], ['compound', '--29', 'stock-28'], ['nmod', 'any-25', '--29'], ['punct', 'cut-16', 'trading-30']]\n",
      "---------------------\n",
      "[['nn', 'Inc.-4', 'Kemper-1'], ['nn', 'Inc.-4', 'Financial-2'], ['nn', 'Inc.-4', 'Services-3'], ['nsubj', 'cut-16', 'Inc.-4'], ['vmod', 'cut-16', 'charging-6'], ['mark', 'ruining-11', 'that-7'], ['nn', 'trading-9', 'program-8'], ['nsubj', 'ruining-11', 'trading-9'], ['aux', 'ruining-11', 'is-10'], ['ccomp', 'charging-6', 'ruining-11'], ['det', 'market-14', 'the-12'], ['nn', 'market-14', 'stock-13'], ['dobj', 'ruining-11', 'market-14'], ['root', 'ROOT-0', 'cut-16'], ['prt', 'cut-16', 'off-17'], ['num', 'firms-22', 'four-18'], ['amod', 'firms-22', 'big-19'], ['nn', 'firms-22', 'Wall-20'], ['nn', 'firms-22', 'Street-21'], ['dobj', 'cut-16', 'firms-22'], ['prep', 'cut-16', 'from-23'], ['pcomp', 'from-23', 'doing-24'], ['dobj', 'doing-24', 'any-25'], ['prep', 'any-25', 'of-26'], ['poss', 'business-29', 'its-27'], ['nn', 'business-29', 'stock-trading-28'], ['pobj', 'of-26', 'business-29']]\n"
     ]
    }
   ],
   "source": [
    "print(converted_dict['wsj_1000']['sentences'][0]['dependencies'])\n",
    "print('---------------------')\n",
    "print(actual_dict['wsj_1000']['sentences'][0]['dependencies'])"
   ]
  },
  {
   "cell_type": "markdown",
   "metadata": {},
   "source": [
    "## learning pipline"
   ]
  },
  {
   "cell_type": "code",
   "execution_count": 1,
   "metadata": {},
   "outputs": [
    {
     "name": "stdout",
     "output_type": "stream",
     "text": [
      "Use device: gpu\n",
      "---\n",
      "Loading: tokenize\n",
      "With settings: \n",
      "{'model_path': '/home/pengfei/stanfordnlp_resources/en_ewt_models/en_ewt_tokenizer.pt', 'lang': 'en', 'shorthand': 'en_ewt', 'mode': 'predict'}\n",
      "---\n",
      "Loading: pos\n",
      "With settings: \n",
      "{'model_path': '/home/pengfei/stanfordnlp_resources/en_ewt_models/en_ewt_tagger.pt', 'pretrain_path': '/home/pengfei/stanfordnlp_resources/en_ewt_models/en_ewt.pretrain.pt', 'lang': 'en', 'shorthand': 'en_ewt', 'mode': 'predict'}\n",
      "---\n",
      "Loading: lemma\n",
      "With settings: \n",
      "{'model_path': '/home/pengfei/stanfordnlp_resources/en_ewt_models/en_ewt_lemmatizer.pt', 'lang': 'en', 'shorthand': 'en_ewt', 'mode': 'predict'}\n",
      "Building an attentional Seq2Seq model...\n",
      "Using a Bi-LSTM encoder\n",
      "Using soft attention for LSTM.\n",
      "Finetune all embeddings.\n",
      "[Running seq2seq lemmatizer with edit classifier]\n",
      "---\n",
      "Loading: depparse\n",
      "With settings: \n",
      "{'model_path': '/home/pengfei/stanfordnlp_resources/en_ewt_models/en_ewt_parser.pt', 'pretrain_path': '/home/pengfei/stanfordnlp_resources/en_ewt_models/en_ewt.pretrain.pt', 'lang': 'en', 'shorthand': 'en_ewt', 'mode': 'predict'}\n",
      "Done loading processors!\n",
      "---\n"
     ]
    }
   ],
   "source": [
    "import stanfordnlp\n",
    "nlp = stanfordnlp.Pipeline()\n",
    "doc = nlp(open('/home/pengfei/data/trial/raw_train/wsj_1000').read())"
   ]
  },
  {
   "cell_type": "code",
   "execution_count": 3,
   "metadata": {},
   "outputs": [
    {
     "name": "stdout",
     "output_type": "stream",
     "text": [
      "('Kemper', '4', 'compound')\n",
      "('Financial', '4', 'compound')\n",
      "('Services', '4', 'compound')\n",
      "('Inc.', '0', 'root')\n",
      "(',', '4', 'punct')\n",
      "('charging', '4', 'acl')\n",
      "('that', '11', 'mark')\n",
      "('program', '9', 'compound')\n",
      "('trading', '11', 'nsubj')\n",
      "('is', '11', 'aux')\n",
      "('ruining', '6', 'ccomp')\n",
      "('the', '14', 'det')\n",
      "('stock', '14', 'compound')\n",
      "('market', '11', 'obj')\n",
      "(',', '11', 'punct')\n",
      "('cut', '11', 'advcl')\n",
      "('off', '16', 'compound:prt')\n",
      "('four', '22', 'nummod')\n",
      "('big', '22', 'amod')\n",
      "('Wall', '21', 'compound')\n",
      "('Street', '22', 'compound')\n",
      "('firms', '16', 'obj')\n",
      "('from', '24', 'mark')\n",
      "('doing', '16', 'advcl')\n",
      "('any', '24', 'obj')\n",
      "('of', '31', 'case')\n",
      "('its', '31', 'nmod:poss')\n",
      "('stock', '30', 'compound')\n",
      "('-', '30', 'punct')\n",
      "('trading', '31', 'compound')\n",
      "('business', '25', 'nmod')\n",
      "('.', '4', 'punct')\n"
     ]
    }
   ],
   "source": [
    "doc.sentences[2].print_dependencies()"
   ]
  },
  {
   "cell_type": "code",
   "execution_count": null,
   "metadata": {},
   "outputs": [],
   "source": []
  }
 ],
 "metadata": {
  "kernelspec": {
   "display_name": "Python 3",
   "language": "python",
   "name": "python3"
  },
  "language_info": {
   "codemirror_mode": {
    "name": "ipython",
    "version": 3
   },
   "file_extension": ".py",
   "mimetype": "text/x-python",
   "name": "python",
   "nbconvert_exporter": "python",
   "pygments_lexer": "ipython3",
   "version": "3.7.1"
  }
 },
 "nbformat": 4,
 "nbformat_minor": 2
}
