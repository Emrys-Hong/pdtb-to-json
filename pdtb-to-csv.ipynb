{
 "cells": [
  {
   "cell_type": "code",
   "execution_count": 1,
   "metadata": {},
   "outputs": [],
   "source": [
    "import pandas as pd\n",
    "from pathlib import Path\n",
    "import os"
   ]
  },
  {
   "cell_type": "code",
   "execution_count": 2,
   "metadata": {},
   "outputs": [],
   "source": [
    "DATAPATH = Path('/home/pengfei/data/dataset/pdtb_v2_1/data_t/pdtb/')"
   ]
  },
  {
   "cell_type": "code",
   "execution_count": 11,
   "metadata": {},
   "outputs": [],
   "source": [
    "def read_file(filepath, dict_whole, index):\n",
    "    \"\"\"\n",
    "    Args: \n",
    "            filepath(str): path to the file\n",
    "    Returns: \n",
    "            ret(list[str, ..*]): list of string in relations\n",
    "            dict_whole(dict): after adding new content to the dict\n",
    "            index(int): after increasing the number\"\"\"\n",
    "    with open(filepath) as f:\n",
    "        lines = f.readlines()\n",
    "    for line_content in lines:\n",
    "        line_content_list = line_content.split('|')\n",
    "        assert(len(line_content_list) == 48)\n",
    "        dict_whole[index] = line_content_list\n",
    "        index += 1\n",
    "    return dict_whole, index\n",
    "    \n",
    "def get_all_filenames(datapath=DATAPATH):\n",
    "    \"\"\"Returns (list[str]) all the filepath + filename in that dir\"\"\"\n",
    "    ret = []\n",
    "    sections = os.listdir(datapath)\n",
    "    for sec in sections:\n",
    "        filenames = os.listdir(datapath/sec)\n",
    "        for filename in filenames:\n",
    "            ret.append(datapath/sec/filename)\n",
    "    return ret\n",
    "\n",
    "def pdtb2csv():\n",
    "    \"\"\"takes content from @function read_file and Returns: DATAFRAME\"\"\"\n",
    "    index = 0\n",
    "    dict_whole = {}\n",
    "    filenames = get_all_filenames()\n",
    "    for filename in filenames:\n",
    "        dict_whole, index= read_file(filename, dict_whole, index)\n",
    "    columns = ['Relation',     'Section',     'FileNumber',     'Connective_SpanList',    'Connective_GornList',     'Connective_RawText',    'Connective_StringPosition',     'SentenceNumber',     'ConnHead',     'Conn1',    'Conn2',     'ConnHeadSemClass1',     'ConnHeadSemClass2',     'Conn2SemClass1',    'Conn2SemClass2',     'Attribution_Source',     'Attribution_Type',    'Attribution_Polarity',     'Attribution_Determinacy',    'Attribution_SpanList',     'Attribution_GornList',     'Attribution_RawText',     'Arg1_SpanList',     'Arg1_GornList',     'Arg1_RawText',     'Arg1_Attribution_Source',     'Arg1_Attribution_Type',    'Arg1_Attribution_Polarity',     'Arg1_Attribution_Determinacy',    'Arg1_Attribution_SpanList',     'Arg1_Attribution_GornList',    'Arg1_Attribution_RawText',     'Arg2_SpanList',    'Arg2_GornList',      'Arg2_RawText',    'Arg2_Attribution_Source',     'Arg2_Attribution_Type',    'Arg2_Attribution_Polarity',     'Arg2_Attribution_Determinacy',    'Arg2_Attribution_SpanList',     'Arg2_Attribution_GornList',    'Arg2_Attribution_RawText',     'Sup1_SpanList', 'Sup1_GornList',    'Sup1_RawText',   'Sup2_SpanList',    'Sup2_GornList',  'Sup2_RawText']\n",
    "    print(len(columns))\n",
    "    pdtb_csv_format = pd.DataFrame.from_dict(dict_whole, orient='index', columns=columns)\n",
    "    return pdtb_csv_format\n",
    "\n"
   ]
  },
  {
   "cell_type": "code",
   "execution_count": 12,
   "metadata": {},
   "outputs": [
    {
     "name": "stdout",
     "output_type": "stream",
     "text": [
      "48\n"
     ]
    }
   ],
   "source": [
    "# filename = get_all_filenames()[0]\n",
    "# dict = {}\n",
    "# index = 0\n",
    "# read_file(filename, dict, index)\n",
    "pdtb2 = pdtb2csv()"
   ]
  },
  {
   "cell_type": "code",
   "execution_count": 13,
   "metadata": {},
   "outputs": [],
   "source": [
    "pdtb2.to_csv('pdtb2_v2_1.csv')"
   ]
  },
  {
   "cell_type": "code",
   "execution_count": 24,
   "metadata": {},
   "outputs": [
    {
     "data": {
      "text/plain": [
       "\"'Relation',     'Section',     'FileNumber',     'Connective_SpanList',    'Connective_GornList',     'Connective_RawText',    'Connective_StringPosition',     'SentenceNumber',     'ConnHead',     'Conn1',    'Conn2',     'ConnHeadSemClass1',     'ConnHeadSemClass2',     'Conn2SemClass1',    'Conn2SemClass2',     'Attribution_Source',     'Attribution_Type',    'Attribution_Polarity',     'Attribution_Determinacy',    'Attribution_SpanList',     'Attribution_GornList',     'Attribution_RawText',     'Arg1_SpanList',     'Arg1_GornList',     'Arg1_RawText',     'Arg1_Attribution_Source',     'Arg1_Attribution_Type',    'Arg1_Attribution_Polarity',     'Arg1_Attribution_Determinacy',    'Arg1_Attribution_SpanList',     'Arg1_Attribution_GornList',    'Arg1_Attribution_RawText',     'Arg2_SpanList',    'Arg2_GornList',      'Arg2_RawText',    'Arg2_Attribution_Source',     'Arg2_Attribution_Type',    'Arg2_Attribution_Polarity',     'Arg2_Attribution_Determinacy',    'Arg2_Attribution_SpanList',     'Arg2_Attribution_GornList',    'Arg2_Attribution_RawText',     'Sup1_SpanList',    'Sup1_GornList',      'Sup1_RawText',     'Sup2_SpanList',    'Sup2_GornList',      'Sup2_RawText']\""
      ]
     },
     "execution_count": 24,
     "metadata": {},
     "output_type": "execute_result"
    }
   ],
   "source": [
    "\"\"\"'Relation’, \n",
    "    'Section’, \n",
    "    'FileNumber’, \n",
    "    'Connective_SpanList',\n",
    "\n",
    "    'Connective_GornList’, \n",
    "\n",
    "    'Connective_RawText',\n",
    "\n",
    "    'Connective_StringPosition’, \n",
    "    'SentenceNumber’, \n",
    "    'ConnHead’, \n",
    "    'Conn1',\n",
    "    'Conn2’, \n",
    "    'ConnHeadSemClass1’, \n",
    "    'ConnHeadSemClass2’, \n",
    "    'Conn2SemClass1',\n",
    "\n",
    "    'Conn2SemClass2’, \n",
    "    'Attribution_Source’, \n",
    "    'Attribution_Type',\n",
    "\n",
    "    'Attribution_Polarity’, \n",
    "    'Attribution_Determinacy',\n",
    "\n",
    "    'Attribution_SpanList’, \n",
    "    'Attribution_GornList',\n",
    "\n",
    "     'Attribution_RawText’, \n",
    "    'Arg1_SpanList', \n",
    "    'Arg1_GornList', \n",
    "\n",
    "    'Arg1_RawText’, \n",
    "    'Arg1_Attribution_Source',\n",
    "     'Arg1_Attribution_Type',\n",
    "\n",
    "    'Arg1_Attribution_Polarity', \n",
    "    'Arg1_Attribution_Determinacy',\n",
    "\n",
    "    'Arg1_Attribution_SpanList', \n",
    "    'Arg1_Attribution_GornList',\n",
    "\n",
    "    'Arg1_Attribution_RawText',\n",
    "     'Arg2_SpanList',\n",
    "\n",
    "    'Arg2_GornList', \n",
    "     'Arg2_RawText',\n",
    "\n",
    "    'Arg2_Attribution_Source', \n",
    "    'Arg2_Attribution_Type',\n",
    "\n",
    "    'Arg2_Attribution_Polarity’, \n",
    "    'Arg2_Attribution_Determinacy',\n",
    "\n",
    "    'Arg2_Attribution_SpanList', \n",
    "    'Arg2_Attribution_GornList',\n",
    "    'Arg2_Attribution_RawText', \n",
    "\n",
    "    'Sup1_SpanList',\n",
    "\n",
    "    'Sup1_GornList', \n",
    "     'Sup1_RawText', \n",
    "\n",
    "    'Sup2_SpanList',\n",
    "\n",
    "    'Sup2_GornList', \n",
    "     'Sup2_RawText']\"\"\".replace('’', '\\'').replace('\\n', '')"
   ]
  },
  {
   "cell_type": "code",
   "execution_count": null,
   "metadata": {},
   "outputs": [],
   "source": []
  }
 ],
 "metadata": {
  "kernelspec": {
   "display_name": "Python 3",
   "language": "python",
   "name": "python3"
  },
  "language_info": {
   "codemirror_mode": {
    "name": "ipython",
    "version": 3
   },
   "file_extension": ".py",
   "mimetype": "text/x-python",
   "name": "python",
   "nbconvert_exporter": "python",
   "pygments_lexer": "ipython3",
   "version": "3.7.1"
  }
 },
 "nbformat": 4,
 "nbformat_minor": 2
}
